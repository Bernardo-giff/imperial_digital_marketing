{
 "cells": [
  {
   "cell_type": "markdown",
   "id": "7da1e052",
   "metadata": {},
   "source": [
    "## Data Preprocessing\n",
    "\n"
   ]
  },
  {
   "cell_type": "markdown",
   "id": "5b16466c",
   "metadata": {},
   "source": [
    "**CLICKS DATASET FILE DESCRIPTION**\n",
    "\n",
    "The file yoochoose-clicks.dat comprising the clicks of the users over the items.\n",
    "Each record/line in the file has the following fields/format: Session ID, Timestamp, Item ID, Category\n",
    "\n",
    "- Session ID – the id of the session. In one session there are one or many clicks. Could be represented as an integer number.\n",
    "- Timestamp – the time when the click occurred. Format of YYYY-MM-DDThh:mm:ss.SSSZ\n",
    "- Item ID – the unique identifier of the item that has been clicked. Could be represented as an integer number.\n",
    "- Category – the context of the click. The value \"S\" indicates a special offer, \"0\" indicates  a missing value, a number between 1 to 12 indicates a real category identifier,\n",
    " any other number indicates a brand. E.g. if an item has been clicked in the context of a promotion or special offer then the value will be \"S\", if the context was a brand i.e BOSCH,\n",
    " then the value will be an 8-10 digits number. If the item has been clicked under regular category, i.e. sport, then the value will be a number between 1 to 12. \n",
    " \n",
    "**BUYS DATSET FILE DESCRIPTION**\n",
    "\n",
    "The file yoochoose-buys.dat comprising the buy events of the users over the items.\n",
    "Each record/line in the file has the following fields: Session ID, Timestamp, Item ID, Price, Quantity\n",
    "\n",
    "- Session ID - the id of the session. In one session there are one or many buying events. Could be represented as an integer number.\n",
    "- Timestamp - the time when the buy occurred. Format of YYYY-MM-DDThh:mm:ss.SSSZ\n",
    "- Item ID – the unique identifier of item that has been bought. Could be represented as an integer number.\n",
    "- Price – the price of the item. Could be represented as an integer number."
   ]
  },
  {
   "cell_type": "code",
   "execution_count": 2,
   "id": "1874bcc7",
   "metadata": {},
   "outputs": [
    {
     "name": "stderr",
     "output_type": "stream",
     "text": [
      "C:\\Users\\Bernardo Carvalho\\AppData\\Local\\Temp\\ipykernel_14268\\3786542068.py:8: DtypeWarning: Columns (3) have mixed types. Specify dtype option on import or set low_memory=False.\n",
      "  clicks_df = pd.read_csv(path + 'yoochoose-clicks.dat')\n"
     ]
    }
   ],
   "source": [
    "# Import necessary libraries\n",
    "import pandas as pd\n",
    "\n",
    "# CHANGE THIS TO THE DATA PATH ON YOUR COMPUTER\n",
    "path = 'data/'\n",
    "\n",
    "# Import click file\n",
    "clicks_df = pd.read_csv(path + 'yoochoose-clicks.dat')\n",
    "\n",
    "# Import buy file\n",
    "buys_df = pd.read_csv(path + 'yoochoose-buys.dat')"
   ]
  },
  {
   "cell_type": "code",
   "execution_count": 3,
   "id": "53966d79",
   "metadata": {},
   "outputs": [],
   "source": [
    "# Rename columns of the df\n",
    "clicks_df.columns = ['session_id', 'timestamp', 'item_id', 'category']\n",
    "\n",
    "# Convert timestamp to datetime\n",
    "clicks_df['timestamp'] = pd.to_datetime(clicks_df['timestamp'], format='%Y-%m-%dT%H:%M:%S.%fZ')"
   ]
  },
  {
   "cell_type": "code",
   "execution_count": 4,
   "id": "b1d777bb",
   "metadata": {},
   "outputs": [],
   "source": [
    "# Rename columns of the df\n",
    "buys_df.columns = ['session_id', 'timestamp', 'item_id', 'price', 'quantity']\n",
    "\n",
    "# Convert timestamp to datetime\n",
    "buys_df['timestamp'] = pd.to_datetime(buys_df['timestamp'], format='%Y-%m-%dT%H:%M:%S.%fZ')"
   ]
  },
  {
   "cell_type": "code",
   "execution_count": 6,
   "id": "bedd14ac",
   "metadata": {},
   "outputs": [
    {
     "data": {
      "text/plain": [
       "(33003943, 4)"
      ]
     },
     "execution_count": 6,
     "metadata": {},
     "output_type": "execute_result"
    }
   ],
   "source": [
    "\n",
    "# Analysing the shape of the clicks data\n",
    "clicks_df.shape"
   ]
  },
  {
   "cell_type": "markdown",
   "id": "07c2d8b5",
   "metadata": {},
   "source": [
    "There are over 3Mi rows in the clicks dataset."
   ]
  },
  {
   "cell_type": "code",
   "execution_count": 6,
   "id": "99adc93b",
   "metadata": {},
   "outputs": [
    {
     "name": "stderr",
     "output_type": "stream",
     "text": [
      "C:\\Users\\Bernardo Carvalho\\AppData\\Local\\Temp\\ipykernel_18588\\2962751894.py:2: FutureWarning: Treating datetime data as categorical rather than numeric in `.describe` is deprecated and will be removed in a future version of pandas. Specify `datetime_is_numeric=True` to silence this warning and adopt the future behavior now.\n",
      "  clicks_df.describe(include='all').transpose()\n"
     ]
    },
    {
     "data": {
      "text/html": [
       "<div>\n",
       "<style scoped>\n",
       "    .dataframe tbody tr th:only-of-type {\n",
       "        vertical-align: middle;\n",
       "    }\n",
       "\n",
       "    .dataframe tbody tr th {\n",
       "        vertical-align: top;\n",
       "    }\n",
       "\n",
       "    .dataframe thead th {\n",
       "        text-align: right;\n",
       "    }\n",
       "</style>\n",
       "<table border=\"1\" class=\"dataframe\">\n",
       "  <thead>\n",
       "    <tr style=\"text-align: right;\">\n",
       "      <th></th>\n",
       "      <th>count</th>\n",
       "      <th>unique</th>\n",
       "      <th>top</th>\n",
       "      <th>freq</th>\n",
       "      <th>first</th>\n",
       "      <th>last</th>\n",
       "      <th>mean</th>\n",
       "      <th>std</th>\n",
       "      <th>min</th>\n",
       "      <th>25%</th>\n",
       "      <th>50%</th>\n",
       "      <th>75%</th>\n",
       "      <th>max</th>\n",
       "    </tr>\n",
       "  </thead>\n",
       "  <tbody>\n",
       "    <tr>\n",
       "      <th>session_id</th>\n",
       "      <td>33003943.0</td>\n",
       "      <td>NaN</td>\n",
       "      <td>NaN</td>\n",
       "      <td>NaN</td>\n",
       "      <td>NaT</td>\n",
       "      <td>NaT</td>\n",
       "      <td>5620195.253239</td>\n",
       "      <td>3356589.837337</td>\n",
       "      <td>1.0</td>\n",
       "      <td>2691097.0</td>\n",
       "      <td>5516873.0</td>\n",
       "      <td>8527383.0</td>\n",
       "      <td>11562161.0</td>\n",
       "    </tr>\n",
       "    <tr>\n",
       "      <th>timestamp</th>\n",
       "      <td>33003943</td>\n",
       "      <td>32937844</td>\n",
       "      <td>2014-09-07 19:42:04.381000</td>\n",
       "      <td>4</td>\n",
       "      <td>2014-04-01 03:00:00.124</td>\n",
       "      <td>2014-09-30 02:59:59.430</td>\n",
       "      <td>NaN</td>\n",
       "      <td>NaN</td>\n",
       "      <td>NaN</td>\n",
       "      <td>NaN</td>\n",
       "      <td>NaN</td>\n",
       "      <td>NaN</td>\n",
       "      <td>NaN</td>\n",
       "    </tr>\n",
       "    <tr>\n",
       "      <th>item_id</th>\n",
       "      <td>33003943.0</td>\n",
       "      <td>NaN</td>\n",
       "      <td>NaN</td>\n",
       "      <td>NaN</td>\n",
       "      <td>NaT</td>\n",
       "      <td>NaT</td>\n",
       "      <td>216834479.888421</td>\n",
       "      <td>29819442.548417</td>\n",
       "      <td>214507224.0</td>\n",
       "      <td>214676070.0</td>\n",
       "      <td>214826810.0</td>\n",
       "      <td>214845422.0</td>\n",
       "      <td>1178837797.0</td>\n",
       "    </tr>\n",
       "    <tr>\n",
       "      <th>category</th>\n",
       "      <td>33003943.0</td>\n",
       "      <td>340.0</td>\n",
       "      <td>0.0</td>\n",
       "      <td>14548992.0</td>\n",
       "      <td>NaT</td>\n",
       "      <td>NaT</td>\n",
       "      <td>NaN</td>\n",
       "      <td>NaN</td>\n",
       "      <td>NaN</td>\n",
       "      <td>NaN</td>\n",
       "      <td>NaN</td>\n",
       "      <td>NaN</td>\n",
       "      <td>NaN</td>\n",
       "    </tr>\n",
       "  </tbody>\n",
       "</table>\n",
       "</div>"
      ],
      "text/plain": [
       "                 count    unique                         top        freq  \\\n",
       "session_id  33003943.0       NaN                         NaN         NaN   \n",
       "timestamp     33003943  32937844  2014-09-07 19:42:04.381000           4   \n",
       "item_id     33003943.0       NaN                         NaN         NaN   \n",
       "category    33003943.0     340.0                         0.0  14548992.0   \n",
       "\n",
       "                             first                    last              mean  \\\n",
       "session_id                     NaT                     NaT    5620195.253239   \n",
       "timestamp  2014-04-01 03:00:00.124 2014-09-30 02:59:59.430               NaN   \n",
       "item_id                        NaT                     NaT  216834479.888421   \n",
       "category                       NaT                     NaT               NaN   \n",
       "\n",
       "                        std          min          25%          50%  \\\n",
       "session_id   3356589.837337          1.0    2691097.0    5516873.0   \n",
       "timestamp               NaN          NaN          NaN          NaN   \n",
       "item_id     29819442.548417  214507224.0  214676070.0  214826810.0   \n",
       "category                NaN          NaN          NaN          NaN   \n",
       "\n",
       "                    75%           max  \n",
       "session_id    8527383.0    11562161.0  \n",
       "timestamp           NaN           NaN  \n",
       "item_id     214845422.0  1178837797.0  \n",
       "category            NaN           NaN  "
      ]
     },
     "execution_count": 6,
     "metadata": {},
     "output_type": "execute_result"
    }
   ],
   "source": [
    "# Show summary data on the clicks dataset\n",
    "clicks_df.describe(include='all').transpose()\n"
   ]
  },
  {
   "cell_type": "markdown",
   "id": "38e53dd9",
   "metadata": {},
   "source": [
    "As we sould expect, no numeric fields, and therefore no summary statistics. Let's check for missing data:"
   ]
  },
  {
   "cell_type": "code",
   "execution_count": 5,
   "id": "a0190fb8",
   "metadata": {},
   "outputs": [],
   "source": [
    "import matplotlib.pyplot as plt \n",
    "import seaborn as sns\n",
    "\n",
    "# Check for missing values\n",
    "missing_data = clicks_df.isnull().sum()\n",
    "missing_percentage = missing_data/clicks_df.shape[0]\n",
    "\n",
    "fig, axes = plt.subplots(1, 2, figsize=(15, 6))\n",
    "\n",
    "# Visualize missing data\n",
    "sns.heatmap(clicks_df.isnull(), cmap='Reds', cbar=True, ax=axes[0])\n",
    "axes[0].set_title('\\nMissing Data Visualization', color='navy', size = 14)\n",
    "\n",
    "# Visualize the percentage of missing data\n",
    "missing_percentage.sort_values(ascending=False).plot(kind='bar', color='royalblue', ax=axes[1])\n",
    "axes[1].set_title('\\nPercentage of Missing Data by Field', color='navy', size = 14)\n",
    "axes[1].set_xlabel('Field')\n",
    "axes[1].set_ylabel('Percentage Missing')\n",
    "\n",
    "# Adjust layout\n",
    "plt.tight_layout()\n",
    "plt.show()"
   ]
  },
  {
   "cell_type": "markdown",
   "id": "80bdfb60",
   "metadata": {},
   "source": [
    "## Feature Engineering"
   ]
  },
  {
   "cell_type": "markdown",
   "id": "d9d396fb",
   "metadata": {},
   "source": [
    "We can basically split the problem into two. The first is a classical discrimation problem, where our goal is to predict a boolean label (buy or no buy) based on some input features X. The second part of the problem is to be treated as a recommendation problem. For simplicity, we will start with the discrimination problem as a guideline for our feature engineering efforts. Then, we apply what we have built to the recommendation problem in the next phase. The raitonale here is that these questions are ordered. That is, we first need to answer if the session is expected to result in a purchase. Only then we are interested in learning what the purchases are going to be\n",
    "\n",
    "### Discrimination problem\n",
    "\n",
    "Basically, our goal will be to predict buy and items based on a session. Therefore, our input data X is a dataset based on sessions, not clicks. Hence, the first thing we need to do is to construct this dataset. Then, the features that comprise X will be determined from what we take from the original datasets. We will start with a top-down approach, in which we start with a very simplistic model, and make incremental improvements towards our maximum performance. The first step is in training the dataset with a very naive approach: Number of clicks and buy probability. For that, we will use three ml models to benchmark:\n",
    "\n",
    " - Linear regression\n",
    " - Decision trees\n",
    " - Neural networks"
   ]
  },
  {
   "cell_type": "code",
   "execution_count": null,
   "id": "2e97813c",
   "metadata": {},
   "outputs": [],
   "source": [
    "# Create unique sessions dataset\n",
    "sessions = clicks_df.groupby('session_id').size().reset_index(name='count_of_clicks')\n",
    "\n",
    "# Show the first few rows of the sessions dataset\n",
    "\n",
    "sessions_merged = pd.merge(sessions, buys_df[['session_id','item_id']], on='session_id', how='left')\n",
    "\n",
    "sessions_merged.head()\n",
    "\n",
    "# Create y target variable\n",
    "sessions_merged['purchase'] = sessions_merged['item_id'].notnull()\n",
    "\n",
    "# Drop the item_id column\n",
    "sessions_merged.drop('item_id', axis=1, inplace=True)"
   ]
  },
  {
   "cell_type": "code",
   "execution_count": null,
   "id": "70c9b4df",
   "metadata": {},
   "outputs": [
    {
     "data": {
      "image/png": "[encoded data removed]",
      "text/plain": [
       "<Figure size 800x600 with 1 Axes>"
      ]
     },
     "metadata": {},
     "output_type": "display_data"
    }
   ],
   "source": [
    "from sklearn.model_selection import train_test_split\n",
    "from sklearn.linear_model import LogisticRegression\n",
    "from sklearn.ensemble import RandomForestClassifier\n",
    "\n",
    "\n",
    "# Split the data into training and testing sets\n",
    "X = sessions_merged[['count_of_clicks']]\n",
    "\n",
    "y = sessions_merged['purchase']\n",
    "\n",
    "X_train, X_test, y_train, y_test = train_test_split(X, y, test_size=0.3, random_state=42)\n",
    "\n",
    "# Create a logistic regression model\n",
    "log_reg = LogisticRegression()\n",
    "\n",
    "# Fit the model\n",
    "log_reg.fit(X_train, y_train)\n",
    "\n",
    "\n",
    "# Create a random forest model\n",
    "rf = RandomForestClassifier()\n",
    "\n",
    "# Fit the model\n",
    "rf.fit(X_train, y_train)\n"
   ]
  },
  {
   "cell_type": "code",
   "execution_count": null,
   "id": "ad6d2160",
   "metadata": {},
   "outputs": [
    {
     "name": "stdout",
     "output_type": "stream",
     "text": [
      "Logistic Regression Model\n",
      "Accuracy: 0.8918026742732967\n",
      "Precision: 0.640312084689061\n",
      "Recall: 0.161743468937116\n",
      "F1 Score: 0.2582521804424421\n",
      "\n",
      "\n",
      "Random Forest Model\n",
      "Accuracy: 0.8923213387812766\n",
      "Precision: 0.6125478802970956\n",
      "Recall: 0.2050205330192365\n",
      "F1 Score: 0.3072156185900077\n"
     ]
    }
   ],
   "source": [
    "from sklearn.metrics import accuracy_score, precision_score, recall_score, f1_score\n",
    "log_reg_preds = log_reg.predict(X_test)\n",
    "rf_preds = rf.predict(X_test)\n",
    "\n",
    "# Calculate the accuracy, precision, recall, and F1 scores\n",
    "log_reg_accuracy = accuracy_score(y_test, log_reg_preds)\n",
    "log_reg_precision = precision_score(y_test, log_reg_preds)\n",
    "log_reg_recall = recall_score(y_test, log_reg_preds)\n",
    "log_reg_f1 = f1_score(y_test, log_reg_preds)\n",
    "\n",
    "rf_accuracy = accuracy_score(y_test, rf_preds)\n",
    "rf_precision = precision_score(y_test, rf_preds)\n",
    "rf_recall = recall_score(y_test, rf_preds)\n",
    "rf_f1 = f1_score(y_test, rf_preds)\n",
    "\n",
    "# Print the results\n",
    "print('Logistic Regression Model')\n",
    "print('Accuracy: {}'.format(log_reg_accuracy))\n",
    "print('Precision: {}'.format(log_reg_precision))\n",
    "print('Recall: {}'.format(log_reg_recall))\n",
    "print('F1 Score: {}'.format(log_reg_f1))\n",
    "print('\\n')\n",
    "print('Random Forest Model')\n",
    "print('Accuracy: {}'.format(rf_accuracy))\n",
    "print('Precision: {}'.format(rf_precision))\n",
    "print('Recall: {}'.format(rf_recall))\n",
    "print('F1 Score: {}'.format(rf_f1))\n"
   ]
  },
  {
   "cell_type": "markdown",
   "id": "52b708b4",
   "metadata": {},
   "source": [
    "Plot ROC-AUC curve lift"
   ]
  },
  {
   "cell_type": "code",
   "execution_count": null,
   "id": "0c7c91a4",
   "metadata": {},
   "outputs": [],
   "source": [
    "# Import the accuracy metric\n",
    "from sklearn.metrics import roc_auc_score\n",
    "from sklearn.metrics import roc_curve, auc\n",
    "\n",
    "# Get the predicted probabilities for the logistic regression model\n",
    "y_pred_log_reg = log_reg.predict_proba(X_test)[:, 1]\n",
    "\n",
    "# Get the predicted probabilities for the random forest model\n",
    "y_pred_rf = rf.predict_proba(X_test)[:, 1]\n",
    "\n",
    "# Calculate the false positive rate, true positive rate, and thresholds for the logistic regression model\n",
    "fpr_log_reg, tpr_log_reg, thresholds_log_reg = roc_curve(y_test, y_pred_log_reg)\n",
    "\n",
    "# Calculate the false positive rate, true positive rate, and thresholds for the random forest model\n",
    "fpr_rf, tpr_rf, thresholds_rf = roc_curve(y_test, y_pred_rf)\n",
    "\n",
    "# Calculate the false positive rate, true positive rate, and thresholds for the baseline\n",
    "fpr_baseline, tpr_baseline, thresholds_baseline = roc_curve(y_test, [0] * len(y_test))\n",
    "\n",
    "# Calculate the AUC for the logistic regression model\n",
    "auc_log_reg = auc(fpr_log_reg, tpr_log_reg)\n",
    "\n",
    "# Calculate the AUC for the random forest model\n",
    "auc_rf = auc(fpr_rf, tpr_rf)\n",
    "\n",
    "# Calculate the AUC for the baseline\n",
    "auc_baseline = auc(fpr_baseline, tpr_baseline)\n",
    "\n",
    "# Plot the ROC-AUC curves\n",
    "plt.figure(figsize=(8, 6))\n",
    "plt.plot(fpr_log_reg, tpr_log_reg, label='Logistic Regression (AUC = {:.2f})'.format(auc_log_reg))\n",
    "plt.plot(fpr_rf, tpr_rf, label='Random Forest (AUC = {:.2f})'.format(auc_rf))\n",
    "plt.plot(fpr_baseline, tpr_baseline, label='Baseline (AUC = {:.2f})'.format(auc_baseline))\n",
    "plt.plot([0, 1], [0, 1], 'k--')\n",
    "plt.xlim([0, 1])\n",
    "plt.ylim([0, 1])\n",
    "plt.xlabel('False Positive Rate')\n",
    "plt.ylabel('True Positive Rate')\n",
    "plt.title('ROC-AUC Curves')\n",
    "plt.legend(loc='lower right')\n",
    "plt.show()"
   ]
  },
  {
   "cell_type": "code",
   "execution_count": null,
   "id": "c752edbc",
   "metadata": {},
   "outputs": [],
   "source": [
    "from sklearn import tree\n",
    "\n",
    "# Get the first decision tree from the random forest model\n",
    "decision_tree = rf.estimators_[0]\n",
    "\n",
    "# Plot the decision tree\n",
    "plt.figure(figsize=(15, 10))\n",
    "tree.plot_tree(decision_tree, filled=True, feature_names=X.columns)\n",
    "plt.show()\n"
   ]
  },
  {
   "cell_type": "markdown",
   "id": "f5388139",
   "metadata": {},
   "source": [
    "**Features to create and investigate**\n",
    "\n",
    "1. Time since last click\n",
    "2. Time of day\n",
    "3. Clicks on category\n",
    "4. Clicks on item\n",
    "5. Item similarity?\n",
    "\n",
    "Features of the buyers dataset:\n",
    "\n",
    "1. Item price\n"
   ]
  },
  {
   "cell_type": "markdown",
   "id": "30a0b8f4",
   "metadata": {},
   "source": [
    "Check item click occurance and buy occurence of items (to see if some bundling is necessary)"
   ]
  }
 ],
 "metadata": {
  "kernelspec": {
   "display_name": "Python 3 (ipykernel)",
   "language": "python",
   "name": "python3"
  },
  "language_info": {
   "codemirror_mode": {
    "name": "ipython",
    "version": 3
   },
   "file_extension": ".py",
   "mimetype": "text/x-python",
   "name": "python",
   "nbconvert_exporter": "python",
   "pygments_lexer": "ipython3",
   "version": "3.8.16"
  }
 },
 "nbformat": 4,
 "nbformat_minor": 5
}
