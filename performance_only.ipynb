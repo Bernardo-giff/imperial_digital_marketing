{
 "cells": [
  {
   "cell_type": "code",
   "execution_count": 1,
   "metadata": {},
   "outputs": [],
   "source": [
    "import pandas as pd\n",
    "from scipy.sparse import load_npz\n",
    "import numpy as np\n",
    "\n",
    "# Get DATA_PATH variable from enviroment\n",
    "path = '/Users/bernardocarvalho/Desktop/imperial_repos/data/'\n",
    "\n",
    "# Load the item similarity from disk\n",
    "item_similarity_df = pd.read_csv(path + 'item_similarity.csv', index_col=0)\n",
    "\n",
    "# Load the utility matrix from disk\n",
    "utility_matrix_sparse = load_npz(path + 'utility_matrix_sparse.npz')"
   ]
  },
  {
   "cell_type": "code",
   "execution_count": 36,
   "metadata": {},
   "outputs": [],
   "source": [
    "# Building the recommendation function that takes an item and returns the most similar items\n",
    "\n",
    "def get_similar_items(item_id, item_similarity_df, similarity_threshold=0.1):\n",
    "    if item_id not in item_similarity_df.index:\n",
    "        return [item_id]\n",
    "\n",
    "    else:\n",
    "        # Get the similarity values for the item\n",
    "        similar_items = item_similarity_df.loc[item_id]\n",
    "        \n",
    "        # Sort the items by similarity\n",
    "        similar_items = similar_items.sort_values(ascending=False)\n",
    "\n",
    "        # remove items with similarity 0\n",
    "        similar_items = similar_items[similar_items > 0]\n",
    "\n",
    "        # remove items with similarity below the threshold\n",
    "        similar_items = similar_items[similar_items > similarity_threshold]\n",
    "\n",
    "        # Remove the first row if there are more than 1 similar items\n",
    "        if len(similar_items) > 1:\n",
    "            similar_items = similar_items[1:]\n",
    "\n",
    "        return similar_items"
   ]
  },
  {
   "cell_type": "code",
   "execution_count": 3,
   "metadata": {},
   "outputs": [],
   "source": [
    "def performance_score(submitted_data, test_data):\n",
    "    # Instantiate the total score\n",
    "    total_score = 0\n",
    "\n",
    "    # Calculate the fixed reward (for each purchase, the reward is 1/total number of purchases in the test data)\n",
    "    fixed_reward = test_data['flg_is_purchase'].sum() / len(test_data['flg_is_purchase'])\n",
    "\n",
    "    # Sessions in test set that are actually a buy\n",
    "    S_b = test_data[test_data['flg_is_purchase'] == True]['session_id'].unique()\n",
    "\n",
    "    for session_id, session in submitted_data.iterrows():\n",
    "\n",
    "        B_s = test_data[test_data['session_id'] == session_id]['item_id'].unique().tolist()\n",
    "        A_s = session['similar_items']\n",
    "\n",
    "        # Get intersection of A_s and B_s\n",
    "        intersection = list(set(A_s) & set(B_s))\n",
    "        # Get union of A_s and B_s\n",
    "        union = list(set(A_s) | set(B_s))\n",
    "        # Calculate the Jaccard similarity\n",
    "        if len(union) == 0:\n",
    "            jaccard_similarity = 0\n",
    "        else:\n",
    "            jaccard_similarity = len(intersection) / len(union)\n",
    "\n",
    "        if session_id in S_b:\n",
    "            total_score += fixed_reward + jaccard_similarity\n",
    "        else:\n",
    "            total_score -= fixed_reward\n",
    "    return total_score\n"
   ]
  },
  {
   "cell_type": "code",
   "execution_count": 19,
   "metadata": {},
   "outputs": [
    {
     "name": "stderr",
     "output_type": "stream",
     "text": [
      "/var/folders/9q/j7lbhmyn7rn9k4c3p7kgjhwh0000gn/T/ipykernel_88223/1139744925.py:4: DtypeWarning: Columns (3) have mixed types. Specify dtype option on import or set low_memory=False.\n",
      "  stream_df = pd.read_csv(path + 'stream_df.csv')\n"
     ]
    }
   ],
   "source": [
    "#Load final predicitons from disk\n",
    "predictions = np.load(path + 'log_reg_preds_5.npy')    \n",
    "X_test = pd.read_csv(path + 'X_test.csv')\n",
    "stream_df = pd.read_csv(path + 'stream_df.csv')\n",
    "\n",
    "# Create the submission DataFrame\n",
    "data = stream_df[stream_df['session_id'].isin(X_test[predictions].index.to_list())][['session_id', 'item_id']]\n",
    "\n",
    "# Group data by id and aggregate the items into a list, keep the last item in a separate column. \n",
    "data = data.groupby('session_id')['item_id'].agg(list).reset_index()\n",
    "\n",
    "# Rename the column of all items\n",
    "data.rename(columns={'item_id': 'all_items'}, inplace=True)\n",
    "\n",
    "# Get the last item in the list\n",
    "data['last_item_id'] = data['all_items'].apply(lambda x: x[-1])"
   ]
  },
  {
   "cell_type": "code",
   "execution_count": 37,
   "metadata": {},
   "outputs": [
    {
     "ename": "AttributeError",
     "evalue": "'builtin_function_or_method' object has no attribute 'difference'",
     "output_type": "error",
     "traceback": [
      "\u001b[0;31m---------------------------------------------------------------------------\u001b[0m",
      "\u001b[0;31mAttributeError\u001b[0m                            Traceback (most recent call last)",
      "Cell \u001b[0;32mIn[37], line 11\u001b[0m\n\u001b[1;32m      7\u001b[0m thresholds \u001b[38;5;241m=\u001b[39m np\u001b[38;5;241m.\u001b[39mlinspace(\u001b[38;5;241m0\u001b[39m, \u001b[38;5;241m1\u001b[39m, \u001b[38;5;241m10\u001b[39m)\n\u001b[1;32m      9\u001b[0m \u001b[38;5;28;01mfor\u001b[39;00m threshold \u001b[38;5;129;01min\u001b[39;00m thresholds:  \u001b[38;5;66;03m# Convert range arguments to integers\u001b[39;00m\n\u001b[1;32m     10\u001b[0m     \u001b[38;5;66;03m# Apply the get_similar_items function to the last item in each session, removing the ones already in all_items\u001b[39;00m\n\u001b[0;32m---> 11\u001b[0m     data[\u001b[38;5;124m'\u001b[39m\u001b[38;5;124msimilar_items\u001b[39m\u001b[38;5;124m'\u001b[39m] \u001b[38;5;241m=\u001b[39m \u001b[43mdata\u001b[49m\u001b[43m[\u001b[49m\u001b[38;5;124;43m'\u001b[39;49m\u001b[38;5;124;43mlast_item_id\u001b[39;49m\u001b[38;5;124;43m'\u001b[39;49m\u001b[43m]\u001b[49m\u001b[38;5;241;43m.\u001b[39;49m\u001b[43mapply\u001b[49m\u001b[43m(\u001b[49m\u001b[38;5;28;43;01mlambda\u001b[39;49;00m\u001b[43m \u001b[49m\u001b[43mx\u001b[49m\u001b[43m:\u001b[49m\u001b[43m \u001b[49m\u001b[43mx\u001b[49m\u001b[43m[\u001b[49m\u001b[38;5;124;43m'\u001b[39;49m\u001b[38;5;124;43mlast_item_id\u001b[39;49m\u001b[38;5;124;43m'\u001b[39;49m\u001b[43m]\u001b[49m\u001b[43m \u001b[49m\u001b[38;5;28;43;01mif\u001b[39;49;00m\u001b[43m \u001b[49m\u001b[43mx\u001b[49m\u001b[43m \u001b[49m\u001b[38;5;129;43;01mis\u001b[39;49;00m\u001b[43m \u001b[49m\u001b[38;5;28;43;01mNone\u001b[39;49;00m\u001b[43m \u001b[49m\u001b[38;5;28;43;01melse\u001b[39;49;00m\u001b[43m \u001b[49m\u001b[43mget_similar_items\u001b[49m\u001b[43m(\u001b[49m\u001b[43mx\u001b[49m\u001b[43m,\u001b[49m\u001b[43m \u001b[49m\u001b[43mitem_similarity_df\u001b[49m\u001b[43m,\u001b[49m\u001b[43m \u001b[49m\u001b[43mthreshold\u001b[49m\u001b[43m)\u001b[49m\u001b[38;5;241;43m.\u001b[39;49m\u001b[43mindex\u001b[49m\u001b[38;5;241;43m.\u001b[39;49m\u001b[43mdifference\u001b[49m\u001b[43m(\u001b[49m\u001b[43mdata\u001b[49m\u001b[43m[\u001b[49m\u001b[38;5;124;43m'\u001b[39;49m\u001b[38;5;124;43mall_items\u001b[39;49m\u001b[38;5;124;43m'\u001b[39;49m\u001b[43m]\u001b[49m\u001b[38;5;241;43m.\u001b[39;49m\u001b[43mexplode\u001b[49m\u001b[43m(\u001b[49m\u001b[43m)\u001b[49m\u001b[43m)\u001b[49m\u001b[38;5;241;43m.\u001b[39;49m\u001b[43mtolist\u001b[49m\u001b[43m(\u001b[49m\u001b[43m)\u001b[49m\u001b[43m)\u001b[49m\n\u001b[1;32m     12\u001b[0m     \u001b[38;5;66;03m# data['similar_items'] = data['last_item_id'].apply(lambda x: x['last_item_id'] if get_similar_items(x, item_similarity_df, threshold) is None else get_similar_items(x, item_similarity_df, threshold).tolist())\u001b[39;00m\n\u001b[1;32m     13\u001b[0m     performances\u001b[38;5;241m.\u001b[39mappend(performance_score(data, test_data))\n",
      "File \u001b[0;32m~/Desktop/imperial_repos/.venv/lib/python3.9/site-packages/pandas/core/series.py:4908\u001b[0m, in \u001b[0;36mSeries.apply\u001b[0;34m(self, func, convert_dtype, args, by_row, **kwargs)\u001b[0m\n\u001b[1;32m   4780\u001b[0m \u001b[38;5;28;01mdef\u001b[39;00m \u001b[38;5;21mapply\u001b[39m(\n\u001b[1;32m   4781\u001b[0m     \u001b[38;5;28mself\u001b[39m,\n\u001b[1;32m   4782\u001b[0m     func: AggFuncType,\n\u001b[0;32m   (...)\u001b[0m\n\u001b[1;32m   4787\u001b[0m     \u001b[38;5;241m*\u001b[39m\u001b[38;5;241m*\u001b[39mkwargs,\n\u001b[1;32m   4788\u001b[0m ) \u001b[38;5;241m-\u001b[39m\u001b[38;5;241m>\u001b[39m DataFrame \u001b[38;5;241m|\u001b[39m Series:\n\u001b[1;32m   4789\u001b[0m \u001b[38;5;250m    \u001b[39m\u001b[38;5;124;03m\"\"\"\u001b[39;00m\n\u001b[1;32m   4790\u001b[0m \u001b[38;5;124;03m    Invoke function on values of Series.\u001b[39;00m\n\u001b[1;32m   4791\u001b[0m \n\u001b[0;32m   (...)\u001b[0m\n\u001b[1;32m   4906\u001b[0m \u001b[38;5;124;03m    dtype: float64\u001b[39;00m\n\u001b[1;32m   4907\u001b[0m \u001b[38;5;124;03m    \"\"\"\u001b[39;00m\n\u001b[0;32m-> 4908\u001b[0m     \u001b[38;5;28;01mreturn\u001b[39;00m \u001b[43mSeriesApply\u001b[49m\u001b[43m(\u001b[49m\n\u001b[1;32m   4909\u001b[0m \u001b[43m        \u001b[49m\u001b[38;5;28;43mself\u001b[39;49m\u001b[43m,\u001b[49m\n\u001b[1;32m   4910\u001b[0m \u001b[43m        \u001b[49m\u001b[43mfunc\u001b[49m\u001b[43m,\u001b[49m\n\u001b[1;32m   4911\u001b[0m \u001b[43m        \u001b[49m\u001b[43mconvert_dtype\u001b[49m\u001b[38;5;241;43m=\u001b[39;49m\u001b[43mconvert_dtype\u001b[49m\u001b[43m,\u001b[49m\n\u001b[1;32m   4912\u001b[0m \u001b[43m        \u001b[49m\u001b[43mby_row\u001b[49m\u001b[38;5;241;43m=\u001b[39;49m\u001b[43mby_row\u001b[49m\u001b[43m,\u001b[49m\n\u001b[1;32m   4913\u001b[0m \u001b[43m        \u001b[49m\u001b[43margs\u001b[49m\u001b[38;5;241;43m=\u001b[39;49m\u001b[43margs\u001b[49m\u001b[43m,\u001b[49m\n\u001b[1;32m   4914\u001b[0m \u001b[43m        \u001b[49m\u001b[43mkwargs\u001b[49m\u001b[38;5;241;43m=\u001b[39;49m\u001b[43mkwargs\u001b[49m\u001b[43m,\u001b[49m\n\u001b[1;32m   4915\u001b[0m \u001b[43m    \u001b[49m\u001b[43m)\u001b[49m\u001b[38;5;241;43m.\u001b[39;49m\u001b[43mapply\u001b[49m\u001b[43m(\u001b[49m\u001b[43m)\u001b[49m\n",
      "File \u001b[0;32m~/Desktop/imperial_repos/.venv/lib/python3.9/site-packages/pandas/core/apply.py:1427\u001b[0m, in \u001b[0;36mSeriesApply.apply\u001b[0;34m(self)\u001b[0m\n\u001b[1;32m   1424\u001b[0m     \u001b[38;5;28;01mreturn\u001b[39;00m \u001b[38;5;28mself\u001b[39m\u001b[38;5;241m.\u001b[39mapply_compat()\n\u001b[1;32m   1426\u001b[0m \u001b[38;5;66;03m# self.func is Callable\u001b[39;00m\n\u001b[0;32m-> 1427\u001b[0m \u001b[38;5;28;01mreturn\u001b[39;00m \u001b[38;5;28;43mself\u001b[39;49m\u001b[38;5;241;43m.\u001b[39;49m\u001b[43mapply_standard\u001b[49m\u001b[43m(\u001b[49m\u001b[43m)\u001b[49m\n",
      "File \u001b[0;32m~/Desktop/imperial_repos/.venv/lib/python3.9/site-packages/pandas/core/apply.py:1507\u001b[0m, in \u001b[0;36mSeriesApply.apply_standard\u001b[0;34m(self)\u001b[0m\n\u001b[1;32m   1501\u001b[0m \u001b[38;5;66;03m# row-wise access\u001b[39;00m\n\u001b[1;32m   1502\u001b[0m \u001b[38;5;66;03m# apply doesn't have a `na_action` keyword and for backward compat reasons\u001b[39;00m\n\u001b[1;32m   1503\u001b[0m \u001b[38;5;66;03m# we need to give `na_action=\"ignore\"` for categorical data.\u001b[39;00m\n\u001b[1;32m   1504\u001b[0m \u001b[38;5;66;03m# TODO: remove the `na_action=\"ignore\"` when that default has been changed in\u001b[39;00m\n\u001b[1;32m   1505\u001b[0m \u001b[38;5;66;03m#  Categorical (GH51645).\u001b[39;00m\n\u001b[1;32m   1506\u001b[0m action \u001b[38;5;241m=\u001b[39m \u001b[38;5;124m\"\u001b[39m\u001b[38;5;124mignore\u001b[39m\u001b[38;5;124m\"\u001b[39m \u001b[38;5;28;01mif\u001b[39;00m \u001b[38;5;28misinstance\u001b[39m(obj\u001b[38;5;241m.\u001b[39mdtype, CategoricalDtype) \u001b[38;5;28;01melse\u001b[39;00m \u001b[38;5;28;01mNone\u001b[39;00m\n\u001b[0;32m-> 1507\u001b[0m mapped \u001b[38;5;241m=\u001b[39m \u001b[43mobj\u001b[49m\u001b[38;5;241;43m.\u001b[39;49m\u001b[43m_map_values\u001b[49m\u001b[43m(\u001b[49m\n\u001b[1;32m   1508\u001b[0m \u001b[43m    \u001b[49m\u001b[43mmapper\u001b[49m\u001b[38;5;241;43m=\u001b[39;49m\u001b[43mcurried\u001b[49m\u001b[43m,\u001b[49m\u001b[43m \u001b[49m\u001b[43mna_action\u001b[49m\u001b[38;5;241;43m=\u001b[39;49m\u001b[43maction\u001b[49m\u001b[43m,\u001b[49m\u001b[43m \u001b[49m\u001b[43mconvert\u001b[49m\u001b[38;5;241;43m=\u001b[39;49m\u001b[38;5;28;43mself\u001b[39;49m\u001b[38;5;241;43m.\u001b[39;49m\u001b[43mconvert_dtype\u001b[49m\n\u001b[1;32m   1509\u001b[0m \u001b[43m\u001b[49m\u001b[43m)\u001b[49m\n\u001b[1;32m   1511\u001b[0m \u001b[38;5;28;01mif\u001b[39;00m \u001b[38;5;28mlen\u001b[39m(mapped) \u001b[38;5;129;01mand\u001b[39;00m \u001b[38;5;28misinstance\u001b[39m(mapped[\u001b[38;5;241m0\u001b[39m], ABCSeries):\n\u001b[1;32m   1512\u001b[0m     \u001b[38;5;66;03m# GH#43986 Need to do list(mapped) in order to get treated as nested\u001b[39;00m\n\u001b[1;32m   1513\u001b[0m     \u001b[38;5;66;03m#  See also GH#25959 regarding EA support\u001b[39;00m\n\u001b[1;32m   1514\u001b[0m     \u001b[38;5;28;01mreturn\u001b[39;00m obj\u001b[38;5;241m.\u001b[39m_constructor_expanddim(\u001b[38;5;28mlist\u001b[39m(mapped), index\u001b[38;5;241m=\u001b[39mobj\u001b[38;5;241m.\u001b[39mindex)\n",
      "File \u001b[0;32m~/Desktop/imperial_repos/.venv/lib/python3.9/site-packages/pandas/core/base.py:921\u001b[0m, in \u001b[0;36mIndexOpsMixin._map_values\u001b[0;34m(self, mapper, na_action, convert)\u001b[0m\n\u001b[1;32m    918\u001b[0m \u001b[38;5;28;01mif\u001b[39;00m \u001b[38;5;28misinstance\u001b[39m(arr, ExtensionArray):\n\u001b[1;32m    919\u001b[0m     \u001b[38;5;28;01mreturn\u001b[39;00m arr\u001b[38;5;241m.\u001b[39mmap(mapper, na_action\u001b[38;5;241m=\u001b[39mna_action)\n\u001b[0;32m--> 921\u001b[0m \u001b[38;5;28;01mreturn\u001b[39;00m \u001b[43malgorithms\u001b[49m\u001b[38;5;241;43m.\u001b[39;49m\u001b[43mmap_array\u001b[49m\u001b[43m(\u001b[49m\u001b[43marr\u001b[49m\u001b[43m,\u001b[49m\u001b[43m \u001b[49m\u001b[43mmapper\u001b[49m\u001b[43m,\u001b[49m\u001b[43m \u001b[49m\u001b[43mna_action\u001b[49m\u001b[38;5;241;43m=\u001b[39;49m\u001b[43mna_action\u001b[49m\u001b[43m,\u001b[49m\u001b[43m \u001b[49m\u001b[43mconvert\u001b[49m\u001b[38;5;241;43m=\u001b[39;49m\u001b[43mconvert\u001b[49m\u001b[43m)\u001b[49m\n",
      "File \u001b[0;32m~/Desktop/imperial_repos/.venv/lib/python3.9/site-packages/pandas/core/algorithms.py:1743\u001b[0m, in \u001b[0;36mmap_array\u001b[0;34m(arr, mapper, na_action, convert)\u001b[0m\n\u001b[1;32m   1741\u001b[0m values \u001b[38;5;241m=\u001b[39m arr\u001b[38;5;241m.\u001b[39mastype(\u001b[38;5;28mobject\u001b[39m, copy\u001b[38;5;241m=\u001b[39m\u001b[38;5;28;01mFalse\u001b[39;00m)\n\u001b[1;32m   1742\u001b[0m \u001b[38;5;28;01mif\u001b[39;00m na_action \u001b[38;5;129;01mis\u001b[39;00m \u001b[38;5;28;01mNone\u001b[39;00m:\n\u001b[0;32m-> 1743\u001b[0m     \u001b[38;5;28;01mreturn\u001b[39;00m \u001b[43mlib\u001b[49m\u001b[38;5;241;43m.\u001b[39;49m\u001b[43mmap_infer\u001b[49m\u001b[43m(\u001b[49m\u001b[43mvalues\u001b[49m\u001b[43m,\u001b[49m\u001b[43m \u001b[49m\u001b[43mmapper\u001b[49m\u001b[43m,\u001b[49m\u001b[43m \u001b[49m\u001b[43mconvert\u001b[49m\u001b[38;5;241;43m=\u001b[39;49m\u001b[43mconvert\u001b[49m\u001b[43m)\u001b[49m\n\u001b[1;32m   1744\u001b[0m \u001b[38;5;28;01melse\u001b[39;00m:\n\u001b[1;32m   1745\u001b[0m     \u001b[38;5;28;01mreturn\u001b[39;00m lib\u001b[38;5;241m.\u001b[39mmap_infer_mask(\n\u001b[1;32m   1746\u001b[0m         values, mapper, mask\u001b[38;5;241m=\u001b[39misna(values)\u001b[38;5;241m.\u001b[39mview(np\u001b[38;5;241m.\u001b[39muint8), convert\u001b[38;5;241m=\u001b[39mconvert\n\u001b[1;32m   1747\u001b[0m     )\n",
      "File \u001b[0;32mlib.pyx:2972\u001b[0m, in \u001b[0;36mpandas._libs.lib.map_infer\u001b[0;34m()\u001b[0m\n",
      "Cell \u001b[0;32mIn[37], line 11\u001b[0m, in \u001b[0;36m<lambda>\u001b[0;34m(x)\u001b[0m\n\u001b[1;32m      7\u001b[0m thresholds \u001b[38;5;241m=\u001b[39m np\u001b[38;5;241m.\u001b[39mlinspace(\u001b[38;5;241m0\u001b[39m, \u001b[38;5;241m1\u001b[39m, \u001b[38;5;241m10\u001b[39m)\n\u001b[1;32m      9\u001b[0m \u001b[38;5;28;01mfor\u001b[39;00m threshold \u001b[38;5;129;01min\u001b[39;00m thresholds:  \u001b[38;5;66;03m# Convert range arguments to integers\u001b[39;00m\n\u001b[1;32m     10\u001b[0m     \u001b[38;5;66;03m# Apply the get_similar_items function to the last item in each session, removing the ones already in all_items\u001b[39;00m\n\u001b[0;32m---> 11\u001b[0m     data[\u001b[38;5;124m'\u001b[39m\u001b[38;5;124msimilar_items\u001b[39m\u001b[38;5;124m'\u001b[39m] \u001b[38;5;241m=\u001b[39m data[\u001b[38;5;124m'\u001b[39m\u001b[38;5;124mlast_item_id\u001b[39m\u001b[38;5;124m'\u001b[39m]\u001b[38;5;241m.\u001b[39mapply(\u001b[38;5;28;01mlambda\u001b[39;00m x: x[\u001b[38;5;124m'\u001b[39m\u001b[38;5;124mlast_item_id\u001b[39m\u001b[38;5;124m'\u001b[39m] \u001b[38;5;28;01mif\u001b[39;00m x \u001b[38;5;129;01mis\u001b[39;00m \u001b[38;5;28;01mNone\u001b[39;00m \u001b[38;5;28;01melse\u001b[39;00m \u001b[43mget_similar_items\u001b[49m\u001b[43m(\u001b[49m\u001b[43mx\u001b[49m\u001b[43m,\u001b[49m\u001b[43m \u001b[49m\u001b[43mitem_similarity_df\u001b[49m\u001b[43m,\u001b[49m\u001b[43m \u001b[49m\u001b[43mthreshold\u001b[49m\u001b[43m)\u001b[49m\u001b[38;5;241;43m.\u001b[39;49m\u001b[43mindex\u001b[49m\u001b[38;5;241;43m.\u001b[39;49m\u001b[43mdifference\u001b[49m(data[\u001b[38;5;124m'\u001b[39m\u001b[38;5;124mall_items\u001b[39m\u001b[38;5;124m'\u001b[39m]\u001b[38;5;241m.\u001b[39mexplode())\u001b[38;5;241m.\u001b[39mtolist())\n\u001b[1;32m     12\u001b[0m     \u001b[38;5;66;03m# data['similar_items'] = data['last_item_id'].apply(lambda x: x['last_item_id'] if get_similar_items(x, item_similarity_df, threshold) is None else get_similar_items(x, item_similarity_df, threshold).tolist())\u001b[39;00m\n\u001b[1;32m     13\u001b[0m     performances\u001b[38;5;241m.\u001b[39mappend(performance_score(data, test_data))\n",
      "\u001b[0;31mAttributeError\u001b[0m: 'builtin_function_or_method' object has no attribute 'difference'"
     ]
    }
   ],
   "source": [
    "# Test data = data used in the test split of the model\n",
    "test_data = stream_df[stream_df['session_id'].isin(X_test.index.to_list())]\n",
    "\n",
    "# Instantiate a list to hold the performances\n",
    "performances = []\n",
    "\n",
    "thresholds = np.linspace(0, 1, 10)\n",
    "\n",
    "for threshold in thresholds:  # Convert range arguments to integers\n",
    "    # Apply the get_similar_items function to the last item in each session, removing the ones already in all_items\n",
    "    data['similar_items'] = data['last_item_id'].apply(lambda x: x['last_item_id'] if x is None else get_similar_items(x, item_similarity_df, threshold).index.difference(data['all_items'].explode()).tolist())\n",
    "    # data['similar_items'] = data['last_item_id'].apply(lambda x: x['last_item_id'] if get_similar_items(x, item_similarity_df, threshold) is None else get_similar_items(x, item_similarity_df, threshold).tolist())\n",
    "    performances.append(performance_score(data, test_data))\n",
    "\n",
    "#Saving files for analysis tomorrow\n",
    "performances_df = pd.DataFrame({'Performance': performances, 'Threshold': thresholds})\n",
    "\n",
    "# Save the DataFrame to a CSV file\n",
    "performances_df.to_csv(path + 'performances', index=False)\n",
    "\n",
    "# Save the submission data to a CSV file\n",
    "data.to_csv(path + 'submission_data.csv', index=False)"
   ]
  },
  {
   "cell_type": "code",
   "execution_count": 83,
   "metadata": {},
   "outputs": [],
   "source": [
    "# Get list of similar items for each unique item in the data\n",
    "unique_items = data['last_item_id'].unique()\n",
    "performances = []\n",
    "\n",
    "thresholds = np.linspace(0, 1, 10)\n",
    "\n",
    "for threshold in thresholds:\n",
    "    similar_items = []\n",
    "    for item in unique_items:\n",
    "        try:\n",
    "            item = get_similar_items(item, item_similarity_df, threshold).index.tolist()\n",
    "        except:\n",
    "            item = []\n",
    "        similar_items.append(item)\n",
    "\n",
    "    similar_items = pd.DataFrame({'item_id': unique_items, 'similar_items': similar_items})\n",
    "\n",
    "    # merge the data with the similar_items DataFrame\n",
    "    submission = data.merge(similar_items, left_on='last_item_id', right_on='item_id', how='left')\n",
    "\n",
    "    \n",
    "    performances.append(performance_score(submission, test_data))\n",
    "\n",
    "import matplotlib.pyplot as plt\n",
    "\n",
    "# Plot the performances\n",
    "plt.plot(thresholds, performances)\n",
    "\n",
    "# Add labels and title\n",
    "plt.xlabel('Threshold')\n",
    "plt.ylabel('Performance')\n",
    "plt.title('Performance by Threshold')\n",
    "\n",
    "# Show the plot\n",
    "plt.show()\n"
   ]
  },
  {
   "cell_type": "code",
   "execution_count": null,
   "metadata": {},
   "outputs": [],
   "source": [
    "# Select best threshold\n",
    "\n",
    "best_threshold = thresholds[np.argmax(performances)]\n",
    "\n",
    "similar_items = []\n",
    "for item in unique_items:\n",
    "    try:\n",
    "        item = get_similar_items(item, item_similarity_df, best_threshold).index.tolist()\n",
    "    except:\n",
    "        item = []\n",
    "    similar_items.append(item)\n",
    "\n",
    "similar_items = pd.DataFrame({'item_id': unique_items, 'similar_items': similar_items})\n",
    "\n",
    "# merge the data with the similar_items DataFrame\n",
    "submission = data.merge(similar_items, left_on='last_item_id', right_on='item_id', how='left')\n",
    "\n",
    "performances.append(performance_score(submission, test_data))\n",
    "\n",
    "submission.to_csv(path + 'submission_data.csv', index=False)"
   ]
  }
 ],
 "metadata": {
  "kernelspec": {
   "display_name": ".venv",
   "language": "python",
   "name": "python3"
  },
  "language_info": {
   "codemirror_mode": {
    "name": "ipython",
    "version": 3
   },
   "file_extension": ".py",
   "mimetype": "text/x-python",
   "name": "python",
   "nbconvert_exporter": "python",
   "pygments_lexer": "ipython3",
   "version": "3.9.6"
  }
 },
 "nbformat": 4,
 "nbformat_minor": 2
}
