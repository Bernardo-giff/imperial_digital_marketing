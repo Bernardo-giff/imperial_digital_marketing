{
 "cells": [
  {
   "cell_type": "code",
   "execution_count": 1,
   "metadata": {},
   "outputs": [],
   "source": [
    "import pandas as pd\n",
    "from scipy.sparse import load_npz\n",
    "import numpy as np\n",
    "\n",
    "# Get DATA_PATH variable from enviroment\n",
    "path = '/Users/bernardocarvalho/Desktop/imperial_repos/data/'\n",
    "\n",
    "# Load the item similarity from disk\n",
    "item_similarity_df = pd.read_csv(path + 'item_similarity.csv', index_col=0)\n",
    "\n",
    "# Load the utility matrix from disk\n",
    "utility_matrix_sparse = load_npz(path + 'utility_matrix_sparse.npz')"
   ]
  },
  {
   "cell_type": "code",
   "execution_count": 22,
   "metadata": {},
   "outputs": [],
   "source": [
    "# Building the recommendation function that takes an item and returns the most similar items\n",
    "\n",
    "def get_similar_items(item_id, item_similarity_df, similarity_threshold=0.1):\n",
    "    if item_id not in item_similarity_df.index:\n",
    "        return item_id\n",
    "\n",
    "    else:\n",
    "        # Get the similarity values for the item\n",
    "        similar_items = item_similarity_df.loc[item_id]\n",
    "        \n",
    "        # Sort the items by similarity\n",
    "        similar_items = similar_items.sort_values(ascending=False)\n",
    "\n",
    "        # remove items with similarity 0\n",
    "        similar_items = similar_items[similar_items > 0]\n",
    "\n",
    "        # remove items with similarity below the threshold\n",
    "        similar_items = similar_items[similar_items > similarity_threshold]\n",
    "\n",
    "        # Remove the first row\n",
    "        similar_items = similar_items[1:]\n",
    "\n",
    "        return similar_items"
   ]
  },
  {
   "cell_type": "code",
   "execution_count": 3,
   "metadata": {},
   "outputs": [],
   "source": [
    "def performance_score(submitted_data, test_data):\n",
    "    # Instantiate the total score\n",
    "    total_score = 0\n",
    "\n",
    "    # Calculate the fixed reward (for each purchase, the reward is 1/total number of purchases in the test data)\n",
    "    fixed_reward = test_data['flg_is_purchase'].sum() / len(test_data['flg_is_purchase'])\n",
    "\n",
    "    # Sessions in test set that are actually a buy\n",
    "    S_b = test_data[test_data['flg_is_purchase'] == True]['session_id'].unique()\n",
    "\n",
    "    for session_id, session in submitted_data.iterrows():\n",
    "\n",
    "        B_s = test_data[test_data['session_id'] == session_id]['item_id'].unique().tolist()\n",
    "        A_s = session['similar_items']\n",
    "\n",
    "        # Get intersection of A_s and B_s\n",
    "        intersection = list(set(A_s) & set(B_s))\n",
    "        # Get union of A_s and B_s\n",
    "        union = list(set(A_s) | set(B_s))\n",
    "        # Calculate the Jaccard similarity\n",
    "        if len(union) == 0:\n",
    "            jaccard_similarity = 0\n",
    "        else:\n",
    "            jaccard_similarity = len(intersection) / len(union)\n",
    "\n",
    "        if session_id in S_b:\n",
    "            total_score += fixed_reward + jaccard_similarity\n",
    "        else:\n",
    "            total_score -= fixed_reward\n",
    "    return total_score\n"
   ]
  },
  {
   "cell_type": "code",
   "execution_count": 19,
   "metadata": {},
   "outputs": [
    {
     "name": "stderr",
     "output_type": "stream",
     "text": [
      "/var/folders/9q/j7lbhmyn7rn9k4c3p7kgjhwh0000gn/T/ipykernel_88223/1139744925.py:4: DtypeWarning: Columns (3) have mixed types. Specify dtype option on import or set low_memory=False.\n",
      "  stream_df = pd.read_csv(path + 'stream_df.csv')\n"
     ]
    }
   ],
   "source": [
    "#Load final predicitons from disk\n",
    "predictions = np.load(path + 'log_reg_preds_5.npy')    \n",
    "X_test = pd.read_csv(path + 'X_test.csv')\n",
    "stream_df = pd.read_csv(path + 'stream_df.csv')\n",
    "\n",
    "# Create the submission DataFrame\n",
    "data = stream_df[stream_df['session_id'].isin(X_test[predictions].index.to_list())][['session_id', 'item_id']]\n",
    "\n",
    "# Group data by id and aggregate the items into a list, keep the last item in a separate column. \n",
    "data = data.groupby('session_id')['item_id'].agg(list).reset_index()\n",
    "\n",
    "# Rename the column of all items\n",
    "data.rename(columns={'item_id': 'all_items'}, inplace=True)\n",
    "\n",
    "# Get the last item in the list\n",
    "data['last_item_id'] = data['all_items'].apply(lambda x: x[-1])"
   ]
  },
  {
   "cell_type": "code",
   "execution_count": 23,
   "metadata": {},
   "outputs": [],
   "source": [
    "# Test data = data used in the test split of the model\n",
    "test_data = stream_df[stream_df['session_id'].isin(X_test.index.to_list())]\n",
    "\n",
    "# Instantiate a list to hold the performances\n",
    "performances = []\n",
    "\n",
    "thresholds = np.linspace(0, 1, 10)\n",
    "\n",
    "for threshold in thresholds:  # Convert range arguments to integers\n",
    "    # Apply the get_similar_items function to the last item in each session, removing the ones already in all_items\n",
    "    data['similar_items'] = data['last_item_id'].apply(lambda x: get_similar_items(x, item_similarity_df, threshold).index.difference(data['all_items'].explode()).tolist())\n",
    "    performances.append(performance_score(data, test_data))\n",
    "\n",
    "#Saving files for analysis tomorrow\n",
    "performances_df = pd.DataFrame({'Performance': performances, 'Threshold': thresholds})\n",
    "\n",
    "# Save the DataFrame to a CSV file\n",
    "performances_df.to_csv(path + 'performances', index=False)\n",
    "\n",
    "# Save the submission data to a CSV file\n",
    "data.to_csv(path + 'submission_data.csv', index=False)"
   ]
  },
  {
   "cell_type": "code",
   "execution_count": null,
   "metadata": {},
   "outputs": [
    {
     "data": {
      "image/png": "[encoded data removed]",
      "text/plain": [
       "<Figure size 640x480 with 1 Axes>"
      ]
     },
     "metadata": {},
     "output_type": "display_data"
    }
   ],
   "source": [
    "import matplotlib.pyplot as plt\n",
    "\n",
    "# Plot the performances\n",
    "plt.plot(thresholds, performances)\n",
    "\n",
    "# Add labels and title\n",
    "plt.xlabel('Threshold')\n",
    "plt.ylabel('Performance')\n",
    "plt.title('Performance by Threshold')\n",
    "\n",
    "# Show the plot\n",
    "plt.show()"
   ]
  },
  {
   "cell_type": "code",
   "execution_count": null,
   "metadata": {},
   "outputs": [],
   "source": []
  }
 ],
 "metadata": {
  "kernelspec": {
   "display_name": ".venv",
   "language": "python",
   "name": "python3"
  },
  "language_info": {
   "codemirror_mode": {
    "name": "ipython",
    "version": 3
   },
   "file_extension": ".py",
   "mimetype": "text/x-python",
   "name": "python",
   "nbconvert_exporter": "python",
   "pygments_lexer": "ipython3",
   "version": "3.9.6"
  }
 },
 "nbformat": 4,
 "nbformat_minor": 2
}
